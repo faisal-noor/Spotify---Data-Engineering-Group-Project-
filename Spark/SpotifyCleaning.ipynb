{
  "nbformat": 4,
  "nbformat_minor": 5,
  "metadata": {
    "kernelspec": {
      "display_name": "PySpark",
      "language": "",
      "name": "pysparkkernel"
    },
    "language_info": {
      "codemirror_mode": {
        "name": "python",
        "version": 3
      },
      "mimetype": "text/x-python",
      "name": "pyspark",
      "pygments_lexer": "python3"
    },
    "colab": {
      "name": "SpotifyCleaning.ipynb",
      "provenance": [],
      "collapsed_sections": [
        "cultural-raising",
        "arranged-strand",
        "desperate-discovery",
        "classified-steal"
      ]
    }
  },
  "cells": [
    {
      "cell_type": "code",
      "metadata": {
        "id": "interior-century"
      },
      "source": [
        "import pyspark\n",
        "from pyspark.sql import SparkSession\n",
        "from pyspark.sql.functions import col \n"
      ],
      "id": "interior-century",
      "execution_count": null,
      "outputs": []
    },
    {
      "cell_type": "markdown",
      "metadata": {
        "id": "moderate-blocking"
      },
      "source": [
        "## Building the spark session:"
      ],
      "id": "moderate-blocking"
    },
    {
      "cell_type": "code",
      "metadata": {
        "id": "proprietary-technique"
      },
      "source": [
        "sc = pyspark.SparkContext.getOrCreate()\n",
        "spark = SparkSession \\\n",
        ".builder \\\n",
        ".appName(\"\") \\\n",
        ".getOrCreate()\n",
        "accessKeyId=\"\"\n",
        "secretAccessKey=\"\"\n",
        "spark._jsc.hadoopConfiguration().set(\"fs.s3a.impl\", \"org.apache.hadoop.fs.s3native.NativeS3FileSystem\")\n",
        "spark._jsc.hadoopConfiguration().set(\"fs.s3a.awsAccessKeyId\", accessKeyId)\n",
        "spark._jsc.hadoopConfiguration().set(\"fs.s3a.awsSecretAccessKey\", secretAccessKey)"
      ],
      "id": "proprietary-technique",
      "execution_count": null,
      "outputs": []
    },
    {
      "cell_type": "markdown",
      "metadata": {
        "id": "current-timothy"
      },
      "source": [
        "Intalling psycopg2 package to connect to postgres on RDS:"
      ],
      "id": "current-timothy"
    },
    {
      "cell_type": "code",
      "metadata": {
        "id": "seven-favor"
      },
      "source": [
        "sc.install_pypi_package(\"psycopg2-binary\")"
      ],
      "id": "seven-favor",
      "execution_count": null,
      "outputs": []
    },
    {
      "cell_type": "code",
      "metadata": {
        "id": "compact-software"
      },
      "source": [
        "import psycopg2\n",
        "conn = psycopg2.connect(\n",
        "    host=\"depgdb.c50u4bslwwg0.eu-west-2.rds.amazonaws.com\",\n",
        "    database=\"\",\n",
        "    user=\"\",\n",
        "    password=\"\")\n",
        "cursor = conn.cursor()"
      ],
      "id": "compact-software",
      "execution_count": null,
      "outputs": []
    },
    {
      "cell_type": "markdown",
      "metadata": {
        "id": "welsh-hazard"
      },
      "source": [
        "## 1. Get tables from RDS:"
      ],
      "id": "welsh-hazard"
    },
    {
      "cell_type": "markdown",
      "metadata": {
        "id": "expected-notion"
      },
      "source": [
        "__Running queries to get the tables from our database on RDS and load on spark dataframes:__"
      ],
      "id": "expected-notion"
    },
    {
      "cell_type": "markdown",
      "metadata": {
        "id": "vertical-merchant"
      },
      "source": [
        "__Get artists table:__"
      ],
      "id": "vertical-merchant"
    },
    {
      "cell_type": "code",
      "metadata": {
        "id": "invisible-mozambique"
      },
      "source": [
        "query=(\"SELECT * FROM spotify.artists\")\n",
        "cursor.execute(query)\n",
        "artists_rows=cursor.fetchall()\n",
        "columns_artists=['artist_id','artist_name','followers','popularity']\n",
        "artists_df=spark.createDataFrame(artists_rows,columns_artists)\n",
        "#artists_df.show()"
      ],
      "id": "invisible-mozambique",
      "execution_count": null,
      "outputs": []
    },
    {
      "cell_type": "markdown",
      "metadata": {
        "id": "forced-insured"
      },
      "source": [
        "__Get albums table:__"
      ],
      "id": "forced-insured"
    },
    {
      "cell_type": "code",
      "metadata": {
        "id": "racial-saturn"
      },
      "source": [
        "query=(\"SELECT * FROM spotify.albums\")\n",
        "cursor.execute(query)\n",
        "albums_rows=cursor.fetchall()\n",
        "columns_albums=['album_id','artist_id','album_group','album_type','album_name','release_date','total_tracks']\n",
        "albums_df=spark.createDataFrame(albums_rows,columns_albums)\n",
        "#albums_df.show()"
      ],
      "id": "racial-saturn",
      "execution_count": null,
      "outputs": []
    },
    {
      "cell_type": "markdown",
      "metadata": {
        "id": "environmental-scholarship"
      },
      "source": [
        "__Get albums images links table:__"
      ],
      "id": "environmental-scholarship"
    },
    {
      "cell_type": "code",
      "metadata": {
        "id": "contrary-commissioner"
      },
      "source": [
        "query=(\"SELECT * FROM spotify.albums_images_links\")\n",
        "cursor.execute(query)\n",
        "image_links_rows=cursor.fetchall()\n",
        "columns_images=['album_id','image_number','height','width','url']\n",
        "image_links_df=spark.createDataFrame(image_links_rows,columns_images)\n",
        "#image_links_df.show()"
      ],
      "id": "contrary-commissioner",
      "execution_count": null,
      "outputs": []
    },
    {
      "cell_type": "markdown",
      "metadata": {
        "id": "martial-being"
      },
      "source": [
        "__Get tracks table:__"
      ],
      "id": "martial-being"
    },
    {
      "cell_type": "code",
      "metadata": {
        "id": "impossible-tokyo"
      },
      "source": [
        "query=(\"SELECT * FROM spotify.tracks\")\n",
        "cursor.execute(query)\n",
        "tracks_rows=cursor.fetchall()\n",
        "columns_tracks=['track_id','album_id','disc_number','duration_ms','explicit','is_local','track_name','preview_url','track_number','track_type']\n",
        "tracks_df=spark.createDataFrame(tracks_rows,columns_tracks)\n",
        "#tracks_df.show()"
      ],
      "id": "impossible-tokyo",
      "execution_count": null,
      "outputs": []
    },
    {
      "cell_type": "markdown",
      "metadata": {
        "id": "judicial-theory"
      },
      "source": [
        "__Get audio features table:__"
      ],
      "id": "judicial-theory"
    },
    {
      "cell_type": "code",
      "metadata": {
        "id": "surprised-david"
      },
      "source": [
        "query=(\"SELECT * FROM spotify.audio_features\")\n",
        "cursor.execute(query)\n",
        "audio_features_rows=cursor.fetchall()\n",
        "columns_audio=['track_id','danceability','energy','key','loudness','mode','speechiness','acousticness','intrumentalness','liveness','valence','tempo','register_type','duration_ms','time_signature']\n",
        "audio_features_df=spark.createDataFrame(audio_features_rows,columns_audio)\n",
        "#audio_features_df.show()"
      ],
      "id": "surprised-david",
      "execution_count": null,
      "outputs": []
    },
    {
      "cell_type": "markdown",
      "metadata": {
        "id": "raised-absorption"
      },
      "source": [
        "__Get lyrics table:__"
      ],
      "id": "raised-absorption"
    },
    {
      "cell_type": "code",
      "metadata": {
        "id": "protective-toolbox"
      },
      "source": [
        "query=(\"SELECT * FROM spotify.lyrics\")\n",
        "cursor.execute(query)\n",
        "lyrics_rows=cursor.fetchall()\n",
        "columns_lyrics=['artist_name','track_name','track_id','lyrics']\n",
        "lyrics_df=spark.createDataFrame(lyrics_rows,columns_lyrics)"
      ],
      "id": "protective-toolbox",
      "execution_count": null,
      "outputs": []
    },
    {
      "cell_type": "markdown",
      "metadata": {
        "id": "cultural-raising"
      },
      "source": [
        "## 2.Removing duplicates: "
      ],
      "id": "cultural-raising"
    },
    {
      "cell_type": "markdown",
      "metadata": {
        "id": "direct-quilt"
      },
      "source": [
        "__Removing duplicates if is needed comparing the lenghts of dataframes before and after perform a 'dropDuplicates' operation on the dataframes:__"
      ],
      "id": "direct-quilt"
    },
    {
      "cell_type": "markdown",
      "metadata": {
        "id": "jewish-surfing"
      },
      "source": [
        "__So if the are more rows before applying the 'dropDuplicates' operation we keep the resulted dataframe as that means that there are duplicates in the table.__"
      ],
      "id": "jewish-surfing"
    },
    {
      "cell_type": "markdown",
      "metadata": {
        "id": "proud-antique"
      },
      "source": [
        "__Artists table:__"
      ],
      "id": "proud-antique"
    },
    {
      "cell_type": "code",
      "metadata": {
        "id": "stopped-better"
      },
      "source": [
        "prev_count=artists_df.count()\n",
        "dropdup_artists = artists_df.dropDuplicates([\"artist_id\"])\n",
        "after_count=dropdup_artists.count()\n",
        "print(prev_count,\">\",after_count,\"?\")\n",
        "if prev_count>after_count:artists_df=dropdup_artists"
      ],
      "id": "stopped-better",
      "execution_count": null,
      "outputs": []
    },
    {
      "cell_type": "markdown",
      "metadata": {
        "id": "impossible-vanilla"
      },
      "source": [
        "__Albums table:__"
      ],
      "id": "impossible-vanilla"
    },
    {
      "cell_type": "code",
      "metadata": {
        "id": "plain-three"
      },
      "source": [
        "prev_count=albums_df.count()\n",
        "dropdup_albums = albums_df.dropDuplicates([\"album_id\"])\n",
        "after_count=dropdup_albums.count()\n",
        "print(prev_count,\">\",after_count,\"?\")\n",
        "if prev_count>after_count:albums_df=dropdup_albums"
      ],
      "id": "plain-three",
      "execution_count": null,
      "outputs": []
    },
    {
      "cell_type": "markdown",
      "metadata": {
        "id": "seven-tunisia"
      },
      "source": [
        "__Albums images links table:__"
      ],
      "id": "seven-tunisia"
    },
    {
      "cell_type": "code",
      "metadata": {
        "id": "thermal-irrigation"
      },
      "source": [
        "prev_count=image_links_df.count()\n",
        "dropdup_image_links = image_links_df.dropDuplicates([\"album_id\",\"image_number\"])\n",
        "after_count=dropdup_image_links.count()\n",
        "print(prev_count,\">\",after_count,\"?\")\n",
        "if prev_count>after_count:image_links_df=dropdup_image_links"
      ],
      "id": "thermal-irrigation",
      "execution_count": null,
      "outputs": []
    },
    {
      "cell_type": "markdown",
      "metadata": {
        "id": "virgin-choice"
      },
      "source": [
        "__Tracks table:__"
      ],
      "id": "virgin-choice"
    },
    {
      "cell_type": "code",
      "metadata": {
        "id": "standard-convertible"
      },
      "source": [
        "prev_count=tracks_df.count()\n",
        "dropdup_tracks = tracks_df.dropDuplicates([\"track_id\"])\n",
        "after_count=dropdup_tracks.count()\n",
        "print(prev_count,\">\",after_count,\"?\")\n",
        "if prev_count>after_count:tracks_df=dropdup_tracks"
      ],
      "id": "standard-convertible",
      "execution_count": null,
      "outputs": []
    },
    {
      "cell_type": "markdown",
      "metadata": {
        "id": "running-jacksonville"
      },
      "source": [
        "__There are not duplicates in any tables.__"
      ],
      "id": "running-jacksonville"
    },
    {
      "cell_type": "markdown",
      "metadata": {
        "id": "arranged-strand"
      },
      "source": [
        "## 3. Null values imputation:"
      ],
      "id": "arranged-strand"
    },
    {
      "cell_type": "markdown",
      "metadata": {
        "id": "available-spring"
      },
      "source": [
        "__We will show rows with null values for every column of each table.__"
      ],
      "id": "available-spring"
    },
    {
      "cell_type": "markdown",
      "metadata": {
        "id": "massive-mortgage"
      },
      "source": [
        "__Artists table:__"
      ],
      "id": "massive-mortgage"
    },
    {
      "cell_type": "markdown",
      "metadata": {
        "id": "consecutive-glenn"
      },
      "source": [
        "__Lets visuazlize rows with null values for each column of the table:__"
      ],
      "id": "consecutive-glenn"
    },
    {
      "cell_type": "code",
      "metadata": {
        "id": "ranking-courtesy"
      },
      "source": [
        "for column in columns_artists:\n",
        "    print(column)\n",
        "    #artists_df.filter(col(column).isNull()).show()"
      ],
      "id": "ranking-courtesy",
      "execution_count": null,
      "outputs": []
    },
    {
      "cell_type": "markdown",
      "metadata": {
        "id": "muslim-holmes"
      },
      "source": [
        "__We get empty results for each column so there is not null values in artists table.__"
      ],
      "id": "muslim-holmes"
    },
    {
      "cell_type": "markdown",
      "metadata": {
        "id": "continuing-catering"
      },
      "source": [
        "__Albums table:__"
      ],
      "id": "continuing-catering"
    },
    {
      "cell_type": "markdown",
      "metadata": {
        "id": "future-progressive"
      },
      "source": [
        "__Lets visuazlize rows with null values for each column of the table:__"
      ],
      "id": "future-progressive"
    },
    {
      "cell_type": "code",
      "metadata": {
        "id": "underlying-lodge"
      },
      "source": [
        "for column in columns_albums:\n",
        "    print(column)\n",
        "    #albums_df.filter(col(column).isNull()).show()"
      ],
      "id": "underlying-lodge",
      "execution_count": null,
      "outputs": []
    },
    {
      "cell_type": "markdown",
      "metadata": {
        "id": "intelligent-karen"
      },
      "source": [
        "__We get empty results for each column so there is not null values in albums table.__"
      ],
      "id": "intelligent-karen"
    },
    {
      "cell_type": "markdown",
      "metadata": {
        "id": "going-environment"
      },
      "source": [
        "__Albums images links table:__"
      ],
      "id": "going-environment"
    },
    {
      "cell_type": "markdown",
      "metadata": {
        "id": "minute-pendant"
      },
      "source": [
        "__Lets visuazlize rows with null values for each column of the table:__"
      ],
      "id": "minute-pendant"
    },
    {
      "cell_type": "code",
      "metadata": {
        "id": "minus-relationship"
      },
      "source": [
        "for column in columns_images:\n",
        "    print(column)\n",
        "    #image_links_df.filter(col(column).isNull()).show()"
      ],
      "id": "minus-relationship",
      "execution_count": null,
      "outputs": []
    },
    {
      "cell_type": "markdown",
      "metadata": {
        "id": "official-enzyme"
      },
      "source": [
        "__We get empty results for each column so there is not null values in albums_images_links table.__"
      ],
      "id": "official-enzyme"
    },
    {
      "cell_type": "markdown",
      "metadata": {
        "id": "naval-mounting"
      },
      "source": [
        "__Tracks table:__"
      ],
      "id": "naval-mounting"
    },
    {
      "cell_type": "markdown",
      "metadata": {
        "id": "regulated-monitor"
      },
      "source": [
        "__Lets visuazlize rows with null values for each column of the table:__"
      ],
      "id": "regulated-monitor"
    },
    {
      "cell_type": "code",
      "metadata": {
        "id": "timely-summary"
      },
      "source": [
        "for column in columns_tracks:\n",
        "    print(column)\n",
        "    #tracks_df.filter(col(column).isNull()).show()"
      ],
      "id": "timely-summary",
      "execution_count": null,
      "outputs": []
    },
    {
      "cell_type": "markdown",
      "metadata": {
        "id": "timely-sharp"
      },
      "source": [
        "__We see that there are several rows with null values in the column 'preview_url' in the tracks table.__"
      ],
      "id": "timely-sharp"
    },
    {
      "cell_type": "code",
      "metadata": {
        "id": "southern-dependence"
      },
      "source": [
        "tracks_df=tracks_df.fillna(\"\",subset=['preview_url'])"
      ],
      "id": "southern-dependence",
      "execution_count": null,
      "outputs": []
    },
    {
      "cell_type": "markdown",
      "metadata": {
        "id": "acquired-clothing"
      },
      "source": [
        "__So we filled with an empty string the cells with null values in that column.__"
      ],
      "id": "acquired-clothing"
    },
    {
      "cell_type": "markdown",
      "metadata": {
        "id": "bored-tower"
      },
      "source": [
        "__Audio features table:__"
      ],
      "id": "bored-tower"
    },
    {
      "cell_type": "markdown",
      "metadata": {
        "id": "artistic-shanghai"
      },
      "source": [
        "__Lets visuazlize rows with null values for each column of the table:__"
      ],
      "id": "artistic-shanghai"
    },
    {
      "cell_type": "code",
      "metadata": {
        "id": "narrative-ethics"
      },
      "source": [
        "for column in columns_audio:\n",
        "    print(column)\n",
        "    #audio_features_df.filter(col(column).isNull()).show()"
      ],
      "id": "narrative-ethics",
      "execution_count": null,
      "outputs": []
    },
    {
      "cell_type": "markdown",
      "metadata": {
        "id": "unsigned-finance"
      },
      "source": [
        "__We get empty results for each column so there is not null values in audio_features table.__"
      ],
      "id": "unsigned-finance"
    },
    {
      "cell_type": "markdown",
      "metadata": {
        "id": "desperate-discovery"
      },
      "source": [
        "## 4. Database Normalization:"
      ],
      "id": "desperate-discovery"
    },
    {
      "cell_type": "markdown",
      "metadata": {
        "id": "congressional-playlist"
      },
      "source": [
        "__We need to join tracks, audio features and lyrics dataframes to get a normalized database as these three tables have the same primary key 'track_id'.__"
      ],
      "id": "congressional-playlist"
    },
    {
      "cell_type": "markdown",
      "metadata": {
        "id": "headed-framing"
      },
      "source": [
        "__As there can be to many musics in Spotify database whose lyrics are not in the Genius database we simply drop rows with null values in the lyrics table.__"
      ],
      "id": "headed-framing"
    },
    {
      "cell_type": "code",
      "metadata": {
        "id": "native-mitchell"
      },
      "source": [
        "lyrics_df=lyrics_df.dropna(how='any',subset=['lyrics'])#drop null values from lyrics dataframe"
      ],
      "id": "native-mitchell",
      "execution_count": null,
      "outputs": []
    },
    {
      "cell_type": "markdown",
      "metadata": {
        "id": "jewish-treaty"
      },
      "source": [
        "__We join tracks and audio features dataframes first:__"
      ],
      "id": "jewish-treaty"
    },
    {
      "cell_type": "code",
      "metadata": {
        "id": "anonymous-night"
      },
      "source": [
        "tracks_df=tracks_df.drop('duration_ms')#drop duration_ms because is duplicated\n",
        "tracks_audio_df=tracks_df.join(audio_features_df,[\"track_id\"],\"inner\")\n",
        "prev_count=tracks_audio_df.count()\n",
        "print(prev_count,'registers')\n",
        "#tracks_audio_df.show()"
      ],
      "id": "anonymous-night",
      "execution_count": null,
      "outputs": []
    },
    {
      "cell_type": "markdown",
      "metadata": {
        "id": "african-occasions"
      },
      "source": [
        "__Then we join the resulted dataframe above with lyrics dataframe:__"
      ],
      "id": "african-occasions"
    },
    {
      "cell_type": "code",
      "metadata": {
        "id": "loving-england"
      },
      "source": [
        "lyrics_df=lyrics_df.drop('artist_name','track_name')#we drop these columns because only lyrics column is needed.\n",
        "tracks_audio_lyrics_df=tracks_audio_df.join(lyrics_df,[\"track_id\"],\"left\")\n",
        "tracks_audio_lyrics_df=tracks_audio_lyrics_df.fillna(\"\",subset=['lyrics'])"
      ],
      "id": "loving-england",
      "execution_count": null,
      "outputs": []
    },
    {
      "cell_type": "markdown",
      "metadata": {
        "id": "alternate-celebration"
      },
      "source": [
        "__After join these three tables we filled the null values of column 'lyrics' with an empty string. Those null values correspond to musics whose lyrics are not in the Genius database.__"
      ],
      "id": "alternate-celebration"
    },
    {
      "cell_type": "markdown",
      "metadata": {
        "id": "classified-steal"
      },
      "source": [
        "## 5. Save tables in parquet format:"
      ],
      "id": "classified-steal"
    },
    {
      "cell_type": "markdown",
      "metadata": {
        "id": "rising-equilibrium"
      },
      "source": [
        "__Finally we save the resulted dataframes on parquet format partitioned in sevaral files each one to our S3 bucket:__"
      ],
      "id": "rising-equilibrium"
    },
    {
      "cell_type": "code",
      "metadata": {
        "id": "hindu-trial"
      },
      "source": [
        "artists_df.write.parquet(\"s3://ucl-msin0166-2021-spotify-project/parquet_files/spotify_artists.parquet\") \n",
        "albums_df.write.parquet(\"s3://ucl-msin0166-2021-spotify-project/parquet_files/spotify_albums.parquet\") \n",
        "image_links_df.write.parquet(\"s3://ucl-msin0166-2021-spotify-project/parquet_files/spotify_image_links.parquet\")\n",
        "tracks_cleaned_df.write.parquet(\"s3://ucl-msin0166-2021-spotify-project/parquet_files/spotify_tracks.parquet\")"
      ],
      "id": "hindu-trial",
      "execution_count": null,
      "outputs": []
    }
  ]
}